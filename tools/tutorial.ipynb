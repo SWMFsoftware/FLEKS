{
 "cells": [
  {
   "cell_type": "markdown",
   "metadata": {},
   "source": [
    "# FLEKS visualization toolkit  \n",
    "## FLEKS data format \n",
    "* Field information: *.out format or AMREX built-in format, whose directory name is assumed to end with \"_amrex\"\n",
    "* PIC particle information: AMREX built-in format \n",
    "* Test particle information: binary data format\n",
    "\n",
    " All these data files can be visualized with the FLEKS python tools. \n",
    " \n",
    "## FLEKS Python tools \n",
    "A few Python files are provided to read and visualize the FLEKS data. "
   ]
  },
  {
   "cell_type": "code",
   "execution_count": null,
   "metadata": {},
   "outputs": [],
   "source": [
    "%matplotlib inline\n",
    "import fleks"
   ]
  },
  {
   "cell_type": "markdown",
   "metadata": {},
   "source": [
    "## Visualizing fields\n",
    "fleks.load() is the interface to read files of all formats. It return a different object for different formats. This object is called data_set object. There are three "
   ]
  },
  {
   "cell_type": "code",
   "execution_count": null,
   "metadata": {},
   "outputs": [],
   "source": [
    "ds = fleks.load(\"sample_data/3*amrex\") #fleks.load is the interface for all data formats. "
   ]
  },
  {
   "cell_type": "code",
   "execution_count": null,
   "metadata": {},
   "outputs": [],
   "source": [
    "dc = ds.get_slice(\"z\",0.001)"
   ]
  },
  {
   "cell_type": "code",
   "execution_count": null,
   "metadata": {},
   "outputs": [],
   "source": [
    "dc"
   ]
  },
  {
   "cell_type": "code",
   "execution_count": null,
   "metadata": {},
   "outputs": [],
   "source": [
    "f, axes = dc.contour(\"Bx<(1e4)>(-1e4) ({rhos0}+{rhos1})<(1.25e21) pS0 uxs0\",figsize=(16,8))"
   ]
  },
  {
   "cell_type": "code",
   "execution_count": null,
   "metadata": {},
   "outputs": [],
   "source": [
    "dc.add_stream(axes[0,0],\"Bx\",\"By\") # Add streamlines to one sub-polt \n",
    "f # show the plot in Jupyter"
   ]
  },
  {
   "cell_type": "code",
   "execution_count": null,
   "metadata": {},
   "outputs": [],
   "source": [
    "dc.add_contour(axes[1,1],\"Bx\") # Add contour lines to one sub-polt \n",
    "f # show the plot in Jupyter"
   ]
  },
  {
   "cell_type": "code",
   "execution_count": null,
   "metadata": {},
   "outputs": [],
   "source": []
  }
 ],
 "metadata": {
  "kernelspec": {
   "display_name": "Python 3",
   "language": "python",
   "name": "python3"
  },
  "language_info": {
   "codemirror_mode": {
    "name": "ipython",
    "version": 3
   },
   "file_extension": ".py",
   "mimetype": "text/x-python",
   "name": "python",
   "nbconvert_exporter": "python",
   "pygments_lexer": "ipython3",
   "version": "3.8.3"
  }
 },
 "nbformat": 4,
 "nbformat_minor": 4
}
